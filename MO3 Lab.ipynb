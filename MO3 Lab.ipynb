{
 "cells": [
  {
   "cell_type": "code",
   "execution_count": 1,
   "id": "6a8c0b9c-fedd-4830-a061-6e720a188ffa",
   "metadata": {},
   "outputs": [
    {
     "name": "stdout",
     "output_type": "stream",
     "text": [
      "Please enter the details of your car:\n"
     ]
    },
    {
     "name": "stdin",
     "output_type": "stream",
     "text": [
      "Year:  1998\n",
      "Make:  honda\n",
      "Model:  civic\n",
      "Number of doors (2 or 4):  4\n",
      "Type of roof (solid or sun roof):  solid\n"
     ]
    },
    {
     "name": "stdout",
     "output_type": "stream",
     "text": [
      "Vehicle type: car\n",
      "Year: 1998\n",
      "Make: honda\n",
      "Model: civic\n",
      "Number of doors: 4\n",
      "Type of roof: solid\n"
     ]
    }
   ],
   "source": [
    "class Vehicle:\n",
    "    def __init__(self, vehicle_type):\n",
    "        self.vehicle_type = vehicle_type\n",
    "\n",
    "class Automobile(Vehicle):\n",
    "    def __init__(self, year, make, model, doors, roof):\n",
    "        super().__init__(\"car\")  # Setting vehicle_type to \"car\"\n",
    "        self.year = year\n",
    "        self.make = make\n",
    "        self.model = model\n",
    "        self.doors = doors\n",
    "        self.roof = roof\n",
    "\n",
    "    def display_info(self):\n",
    "        print(f\"Vehicle type: {self.vehicle_type}\")\n",
    "        print(f\"Year: {self.year}\")\n",
    "        print(f\"Make: {self.make}\")\n",
    "        print(f\"Model: {self.model}\")\n",
    "        print(f\"Number of doors: {self.doors}\")\n",
    "        print(f\"Type of roof: {self.roof}\")\n",
    "\n",
    "def main():\n",
    "    print(\"Please enter the details of your car:\")\n",
    "\n",
    "    year = input(\"Year: \")\n",
    "    make = input(\"Make: \")\n",
    "    model = input(\"Model: \")\n",
    "    doors = input(\"Number of doors (2 or 4): \")\n",
    "    roof = input(\"Type of roof (solid or sun roof): \")\n",
    "\n",
    "    # Validate input\n",
    "    if doors not in [\"2\", \"4\"]:\n",
    "        print(\"Invalid number of doors. Please enter 2 or 4.\")\n",
    "        return\n",
    "\n",
    "    if roof not in [\"solid\", \"sun roof\"]:\n",
    "        print(\"Invalid type of roof. Please enter 'solid' or 'sun roof'.\")\n",
    "        return\n",
    "\n",
    "    # Create Automobile instance\n",
    "    car = Automobile(year, make, model, doors, roof)\n",
    "\n",
    "    # Display car information\n",
    "    car.display_info()\n",
    "\n",
    "if __name__ == \"__main__\":\n",
    "    main()\n"
   ]
  },
  {
   "cell_type": "code",
   "execution_count": null,
   "id": "9fa1ec34-43c9-4531-9507-5de60bdd2f37",
   "metadata": {},
   "outputs": [],
   "source": []
  }
 ],
 "metadata": {
  "kernelspec": {
   "display_name": "Python 3 (ipykernel)",
   "language": "python",
   "name": "python3"
  },
  "language_info": {
   "codemirror_mode": {
    "name": "ipython",
    "version": 3
   },
   "file_extension": ".py",
   "mimetype": "text/x-python",
   "name": "python",
   "nbconvert_exporter": "python",
   "pygments_lexer": "ipython3",
   "version": "3.12.4"
  }
 },
 "nbformat": 4,
 "nbformat_minor": 5
}
